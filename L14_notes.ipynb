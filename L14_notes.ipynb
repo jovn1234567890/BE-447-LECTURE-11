{
 "cells": [
  {
   "cell_type": "markdown",
   "metadata": {},
   "source": [
    "# lecture 14 woowaway\n",
    "The Plan:\n",
    "1. set up imports\n",
    "2. load the data\n",
    "3. split into training and testting data\n",
    "4. define the different hyperparameter values\n",
    "5. loop over combinations of hyperparemeters, train models, and evaluate accuracy"
   ]
  },
  {
   "cell_type": "code",
   "execution_count": 18,
   "metadata": {},
   "outputs": [],
   "source": [
    "#set up imports\n",
    "from sklearn.datasets import load_digits\n",
    "from sklearn.ensemble import RandomForestClassifier\n",
    "from sklearn.model_selection import train_test_split\n",
    "from sklearn.metrics import accuracy_score\n",
    "import pandas as pd\n",
    "\n"
   ]
  },
  {
   "cell_type": "code",
   "execution_count": 3,
   "metadata": {},
   "outputs": [
    {
     "name": "stdout",
     "output_type": "stream",
     "text": [
      "(1797, 64)\n"
     ]
    },
    {
     "data": {
      "text/plain": [
       "(None, array([0, 1, 2, ..., 8, 9, 8], shape=(1797,)))"
      ]
     },
     "execution_count": 3,
     "metadata": {},
     "output_type": "execute_result"
    }
   ],
   "source": [
    "# load the data\n",
    "digits = load_digits()\n",
    "X = digits.data\n",
    "y = digits.target\n",
    "\n",
    "print(X.shape), y"
   ]
  },
  {
   "cell_type": "code",
   "execution_count": 4,
   "metadata": {},
   "outputs": [
    {
     "data": {
      "text/plain": [
       "array([5, 2, 0, ..., 2, 7, 1], shape=(1347,))"
      ]
     },
     "execution_count": 4,
     "metadata": {},
     "output_type": "execute_result"
    }
   ],
   "source": [
    "# do the test train split (75% of the data for training)\n",
    "\n",
    "X_train, X_test, y_train, y_test = train_test_split(X,y,random_state=42)\n",
    "\n",
    "y_train"
   ]
  },
  {
   "cell_type": "code",
   "execution_count": 14,
   "metadata": {},
   "outputs": [],
   "source": [
    "# define hyperparameter values to test\n",
    "\n",
    "\n",
    "max_samples = [0.01, 0.25, 0.5, 0.75, 0.99, 1]\n",
    "max_features = [0.01, 0.25, 0.5, 0.75, 0.99, 1]\n",
    "\n"
   ]
  },
  {
   "cell_type": "code",
   "execution_count": 21,
   "metadata": {},
   "outputs": [
    {
     "name": "stdout",
     "output_type": "stream",
     "text": [
      "    max features  max samples  accuracy\n",
      "0           0.01         0.01  0.791111\n",
      "1           0.25         0.01  0.840000\n",
      "2           0.50         0.01  0.835556\n",
      "3           0.75         0.01  0.831111\n",
      "4           0.99         0.01  0.828889\n",
      "5           1.00         0.01  0.791111\n",
      "6           0.01         0.25  0.953333\n",
      "7           0.25         0.25  0.962222\n",
      "8           0.50         0.25  0.964444\n",
      "9           0.75         0.25  0.957778\n",
      "10          0.99         0.25  0.960000\n",
      "11          1.00         0.25  0.953333\n",
      "12          0.01         0.50  0.962222\n",
      "13          0.25         0.50  0.975556\n",
      "14          0.50         0.50  0.968889\n",
      "15          0.75         0.50  0.968889\n",
      "16          0.99         0.50  0.964444\n",
      "17          1.00         0.50  0.962222\n",
      "18          0.01         0.75  0.968889\n",
      "19          0.25         0.75  0.977778\n",
      "20          0.50         0.75  0.975556\n",
      "21          0.75         0.75  0.966667\n",
      "22          0.99         0.75  0.951111\n",
      "23          1.00         0.75  0.968889\n",
      "24          0.01         0.99  0.964444\n",
      "25          0.25         0.99  0.973333\n",
      "26          0.50         0.99  0.977778\n",
      "27          0.75         0.99  0.966667\n",
      "28          0.99         0.99  0.955556\n",
      "29          1.00         0.99  0.964444\n",
      "30          0.01         1.00  0.102222\n",
      "31          0.25         1.00  0.102222\n",
      "32          0.50         1.00  0.102222\n",
      "33          0.75         1.00  0.102222\n",
      "34          0.99         1.00  0.102222\n",
      "35          1.00         1.00  0.102222\n"
     ]
    }
   ],
   "source": [
    "\n",
    "results = []\n",
    "for max_s in max_samples:\n",
    "    for max_f in max_features:\n",
    "        # print(max_s, max_f)\n",
    "        # create a random forest classifier\n",
    "        rf_clf = RandomForestClassifier(max_samples=max_s, max_features=max_f,random_state=42)\n",
    "        # fit the model\n",
    "        rf_clf.fit(X_train,y_train)\n",
    "\n",
    "\n",
    "        # make predictions\n",
    "        y_preds = rf_clf.predict(X_test)\n",
    "\n",
    "        # evaluate accuracy\n",
    "        acc = accuracy_score(y_true=y_test, y_pred=y_preds)\n",
    "\n",
    "        # print result\n",
    "        results.append({\n",
    "            'max features': max_f,\n",
    "            'max samples': max_s,\n",
    "            'accuracy': acc\n",
    "        })\n",
    "        \n",
    "results_df = pd.DataFrame(results)\n",
    "\n",
    "print(results_df)\n"
   ]
  },
  {
   "cell_type": "code",
   "execution_count": null,
   "metadata": {},
   "outputs": [
    {
     "data": {
      "text/plain": [
       "<Axes: xlabel='accuracy'>"
      ]
     },
     "execution_count": 33,
     "metadata": {},
     "output_type": "execute_result"
    },
    {
     "data": {
      "image/png": "[encoded data removed]",
      "text/plain": [
       "<Figure size 640x480 with 1 Axes>"
      ]
     },
     "metadata": {},
     "output_type": "display_data"
    }
   ],
   "source": [
    "results_df.plot.bar(x='accuracy', y='max features', rot=0)"
   ]
  },
  {
   "cell_type": "code",
   "execution_count": 43,
   "metadata": {},
   "outputs": [],
   "source": [
    "n_estimators = [1, 20, 40, 60, 80, 100, 1000]\n",
    "max_depth = [2, 4, 6, 8, 10, None]"
   ]
  },
  {
   "cell_type": "code",
   "execution_count": 46,
   "metadata": {},
   "outputs": [
    {
     "name": "stdout",
     "output_type": "stream",
     "text": [
      "    max depth  n estimators  accuracy\n",
      "0         2.0             1  0.375556\n",
      "1         4.0             1  0.584444\n",
      "2         6.0             1  0.708889\n",
      "3         8.0             1  0.780000\n",
      "4        10.0             1  0.802222\n",
      "5         NaN             1  0.793333\n",
      "6         2.0            20  0.795556\n",
      "7         4.0            20  0.928889\n",
      "8         6.0            20  0.962222\n",
      "9         8.0            20  0.966667\n",
      "10       10.0            20  0.968889\n",
      "11        NaN            20  0.971111\n",
      "12        2.0            40  0.835556\n",
      "13        4.0            40  0.935556\n",
      "14        6.0            40  0.957778\n",
      "15        8.0            40  0.973333\n",
      "16       10.0            40  0.975556\n",
      "17        NaN            40  0.971111\n",
      "18        2.0            60  0.848889\n",
      "19        4.0            60  0.937778\n",
      "20        6.0            60  0.960000\n",
      "21        8.0            60  0.968889\n",
      "22       10.0            60  0.977778\n",
      "23        NaN            60  0.971111\n",
      "24        2.0            80  0.844444\n",
      "25        4.0            80  0.935556\n",
      "26        6.0            80  0.955556\n",
      "27        8.0            80  0.966667\n",
      "28       10.0            80  0.975556\n",
      "29        NaN            80  0.971111\n",
      "30        2.0           100  0.842222\n",
      "31        4.0           100  0.937778\n",
      "32        6.0           100  0.955556\n",
      "33        8.0           100  0.966667\n",
      "34       10.0           100  0.973333\n",
      "35        NaN           100  0.971111\n",
      "36        2.0          1000  0.848889\n",
      "37        4.0          1000  0.935556\n",
      "38        6.0          1000  0.966667\n",
      "39        8.0          1000  0.971111\n",
      "40       10.0          1000  0.975556\n",
      "41        NaN          1000  0.975556\n"
     ]
    }
   ],
   "source": [
    "ndepth_results = []\n",
    "for n in n_estimators:\n",
    "    for max_d in max_depth:\n",
    "        # print(max_s, max_f)\n",
    "        # create a random forest classifier\n",
    "        rf_clf = RandomForestClassifier(n_estimators=n, max_depth=max_d,random_state=42)\n",
    "        # fit the model\n",
    "        rf_clf.fit(X_train,y_train)\n",
    "\n",
    "\n",
    "        # make predictions\n",
    "        y_preds = rf_clf.predict(X_test)\n",
    "\n",
    "        # evaluate accuracy\n",
    "        acc = accuracy_score(y_true=y_test, y_pred=y_preds)\n",
    "\n",
    "        # print result\n",
    "        ndepth_results.append({\n",
    "            'max depth': max_d,\n",
    "            'n estimators': n,\n",
    "            'accuracy': acc\n",
    "        })\n",
    "        \n",
    "ndepth_results_df = pd.DataFrame(ndepth_results)\n",
    "\n",
    "print(ndepth_results_df)"
   ]
  },
  {
   "cell_type": "code",
   "execution_count": 47,
   "metadata": {},
   "outputs": [
    {
     "data": {
      "text/plain": [
       "<Axes: xlabel='n estimators', ylabel='accuracy'>"
      ]
     },
     "execution_count": 47,
     "metadata": {},
     "output_type": "execute_result"
    },
    {
     "data": {
      "image/png": "[encoded data removed]",
      "text/plain": [
       "<Figure size 640x480 with 1 Axes>"
      ]
     },
     "metadata": {},
     "output_type": "display_data"
    }
   ],
   "source": [
    "ndepth_results_df.plot.scatter(x='n estimators', y='accuracy', rot=0)"
   ]
  },
  {
   "cell_type": "code",
   "execution_count": null,
   "metadata": {},
   "outputs": [],
   "source": []
  }
 ],
 "metadata": {
  "kernelspec": {
   "display_name": "Python 3",
   "language": "python",
   "name": "python3"
  },
  "language_info": {
   "codemirror_mode": {
    "name": "ipython",
    "version": 3
   },
   "file_extension": ".py",
   "mimetype": "text/x-python",
   "name": "python",
   "nbconvert_exporter": "python",
   "pygments_lexer": "ipython3",
   "version": "3.12.1"
  }
 },
 "nbformat": 4,
 "nbformat_minor": 2
}
